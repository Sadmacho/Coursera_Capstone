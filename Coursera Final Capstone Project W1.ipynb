{
 "cells": [
  {
   "cell_type": "markdown",
   "metadata": {},
   "source": [
    "# Final Assignment Coursera Capstone - Week 1"
   ]
  },
  {
   "cell_type": "markdown",
   "metadata": {},
   "source": [
    "## Problem Description"
   ]
  },
  {
   "cell_type": "markdown",
   "metadata": {},
   "source": [
    "### \n",
    "This report is concerned on assessment of the risks associated with starting up a business in New York City.\n",
    "\n",
    "Given that the New York City market is highly competitive, decisions on conducting business need to be analysed carefully.\n",
    "\n",
    "The insights derived from this analysis will give us a good understanding of the business environment which will help in strategically targeting the New York City market."
   ]
  },
  {
   "cell_type": "markdown",
   "metadata": {},
   "source": [
    "## Dataframe description"
   ]
  },
  {
   "cell_type": "markdown",
   "metadata": {},
   "source": [
    "### New York City has a total of 5 boroughs and 306 neighborhoods. In order to segement the neighborhoods and explore them, we will essentially need a dataset that contains the 5 boroughs and the neighborhoods that exist in each borough as well as the the latitude and logitude coordinates of each neighborhood.\n",
    "\n",
    "This project is based on the dataframe free available online: https://geo.nyu.edu/catalog/nyu_2451_34572\n",
    "\n",
    "For the analysis we will extract data from wikipedia as given below :\n",
    "\n",
    "New York Population\n",
    "New York City Demographics\n",
    "Cuisine of New York city\n",
    "The Foursquare API will be used to explore neighborhoods in New York City."
   ]
  },
  {
   "cell_type": "code",
   "execution_count": null,
   "metadata": {},
   "outputs": [],
   "source": []
  }
 ],
 "metadata": {
  "kernelspec": {
   "display_name": "Python",
   "language": "python",
   "name": "conda-env-python-py"
  },
  "language_info": {
   "codemirror_mode": {
    "name": "ipython",
    "version": 3
   },
   "file_extension": ".py",
   "mimetype": "text/x-python",
   "name": "python",
   "nbconvert_exporter": "python",
   "pygments_lexer": "ipython3",
   "version": "3.6.11"
  }
 },
 "nbformat": 4,
 "nbformat_minor": 4
}
